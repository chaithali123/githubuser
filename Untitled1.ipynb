{
 "cells": [
  {
   "cell_type": "code",
   "execution_count": 8,
   "id": "057816b1",
   "metadata": {},
   "outputs": [
    {
     "name": "stdout",
     "output_type": "stream",
     "text": [
      "enter a string   edyoda\n",
      "a\n",
      "d\n",
      "o\n",
      "y\n",
      "d\n",
      "e\n",
      " \n",
      " \n",
      " \n"
     ]
    }
   ],
   "source": [
    "data=input(\"enter a string\")\n",
    "length=len(data)\n",
    "for i in range(length-1,-1,-1):\n",
    "#for i in range(length):\n",
    "    print(data[i])"
   ]
  },
  {
   "cell_type": "code",
   "execution_count": null,
   "id": "5f470b7d",
   "metadata": {},
   "outputs": [],
   "source": []
  },
  {
   "cell_type": "code",
   "execution_count": null,
   "id": "f06a8681",
   "metadata": {},
   "outputs": [],
   "source": []
  }
 ],
 "metadata": {
  "kernelspec": {
   "display_name": "Python 3 (ipykernel)",
   "language": "python",
   "name": "python3"
  },
  "language_info": {
   "codemirror_mode": {
    "name": "ipython",
    "version": 3
   },
   "file_extension": ".py",
   "mimetype": "text/x-python",
   "name": "python",
   "nbconvert_exporter": "python",
   "pygments_lexer": "ipython3",
   "version": "3.10.0"
  }
 },
 "nbformat": 4,
 "nbformat_minor": 5
}
