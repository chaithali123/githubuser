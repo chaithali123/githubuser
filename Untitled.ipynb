{
 "cells": [
  {
   "cell_type": "code",
   "execution_count": 4,
   "id": "2734292a",
   "metadata": {},
   "outputs": [
    {
     "name": "stdout",
     "output_type": "stream",
     "text": [
      "enter no of rows : 5\n",
      "2 5\n",
      "1 2\n",
      "4 4\n",
      "2 3\n",
      "2 1\n",
      "[(2, 5), (1, 2), (4, 4), (2, 3), (2, 1)]\n",
      "[(2, 1), (1, 2), (2, 3), (4, 4), (2, 5)]\n"
     ]
    }
   ],
   "source": [
    "def second(val):# function defining for second value of tuple in list\n",
    "            return val[1] # returning the second value of index 1 in a tuple\n",
    "    \n",
    "l1 = [] # empty list\n",
    "t = list(tuple(map(int,input().split(\" \"))) # function for multiple tuple  inputs from the users in a list\n",
    "for r in range(int(input('enter no of rows : ')))) # user input of rows\n",
    "print(t)\n",
    "\n",
    "t.sort(key = second)# sort second elements of tuple in list\n",
    "print(t)"
   ]
  },
  {
   "cell_type": "code",
   "execution_count": null,
   "id": "7066385f",
   "metadata": {},
   "outputs": [],
   "source": []
  },
  {
   "cell_type": "code",
   "execution_count": null,
   "id": "6ce12538",
   "metadata": {},
   "outputs": [],
   "source": []
  }
 ],
 "metadata": {
  "kernelspec": {
   "display_name": "Python 3 (ipykernel)",
   "language": "python",
   "name": "python3"
  },
  "language_info": {
   "codemirror_mode": {
    "name": "ipython",
    "version": 3
   },
   "file_extension": ".py",
   "mimetype": "text/x-python",
   "name": "python",
   "nbconvert_exporter": "python",
   "pygments_lexer": "ipython3",
   "version": "3.10.0"
  }
 },
 "nbformat": 4,
 "nbformat_minor": 5
}
