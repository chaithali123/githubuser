{
 "cells": [
  {
   "cell_type": "code",
   "execution_count": null,
   "id": "fc7426a3",
   "metadata": {},
   "outputs": [],
   "source": [
    "* Node is a class (skeleton)\n",
    "* Node holds\n",
    "    an int value\n",
    "    pointers to its left and right nodes"
   ]
  },
  {
   "cell_type": "code",
   "execution_count": null,
   "id": "ab8871de",
   "metadata": {},
   "outputs": [],
   "source": [
    "root_node = Node(5, None, None) # object of Node class\n",
    "root_node.value -> 5"
   ]
  },
  {
   "cell_type": "code",
   "execution_count": null,
   "id": "7d215554",
   "metadata": {},
   "outputs": [],
   "source": []
  },
  {
   "cell_type": "code",
   "execution_count": null,
   "id": "bd21fbc7",
   "metadata": {},
   "outputs": [],
   "source": [
    "Class Student -> class names are singular in nature\n",
    "* name\n",
    "* id\n",
    "* gender\n",
    "* marks\n",
    "* email\n",
    "* age\n",
    "* bio\n",
    "* group\n",
    "* ph no\n",
    "* address\n",
    "..."
   ]
  },
  {
   "cell_type": "code",
   "execution_count": null,
   "id": "3abf2cf1",
   "metadata": {},
   "outputs": [],
   "source": [
    "s = Student(\"Ritesh\", 123, \"M\", [80, 90, 65], ...)\n",
    "# s is an object of Class student"
   ]
  },
  {
   "cell_type": "code",
   "execution_count": null,
   "id": "3f995b2e",
   "metadata": {},
   "outputs": [],
   "source": [
    "Blueprint of a building (class) -> The building (object)\n",
    "Vaccine formula -> Vaccine\n",
    "Rocket -> SpaceX Falcon\n",
    "Car specs -> Car\n",
    "DNA -> Living Beings\n",
    "Dummy product -> Product we build\n",
    "int -> 5 # isinstance(5, (int))\n",
    "\n",
    "## \n",
    "# Dog -> German Sheperd\n",
    "# mammals -> human\n",
    "# animal -> lion\n",
    "# OS -> Linux\n",
    "# Sports -> Cricket\n",
    "# ML -> ML method\n",
    "# Country -> State\n",
    "# Automobile -> Car\n",
    "# Cell phone -> Samsung\n",
    "# Book -> Pen\n",
    "# Python -> Function\n",
    "# School -> Students\n",
    "# Library -> Books\n",
    "# Company -> Employee\n",
    "# Shape -> Triangle\n",
    "##"
   ]
  },
  {
   "cell_type": "code",
   "execution_count": null,
   "id": "98f50f6c",
   "metadata": {},
   "outputs": [],
   "source": [
    "class -> object (virtually connects)"
   ]
  },
  {
   "cell_type": "code",
   "execution_count": null,
   "id": "5ef5b7a8",
   "metadata": {},
   "outputs": [],
   "source": [
    "class Student\n",
    "# Data members\n",
    "* name: str \n",
    "* student_id: int\n",
    "* gender: str\n",
    "# * marks: list\n",
    "# * pic: 3d-list\n",
    "\n",
    "# Operations/Functions - Behaviour\n",
    "* Make him class monitor\n",
    "* Update the student details\n",
    "* Mark(=P/A) his attendance for today\n",
    "* Promote him to next grade\n",
    "* Put special attention to 3 most weak subjects\n",
    "* Check his schloarship probability\n",
    "* Verify his attendance\n",
    "\n",
    "the ones that hold real data -> fields, attributes, data members of the class"
   ]
  },
  {
   "cell_type": "code",
   "execution_count": 37,
   "id": "ea81951f",
   "metadata": {},
   "outputs": [],
   "source": [
    "class Student: # int, list\n",
    "    def __init__(self, sname, sid, sgen):\n",
    "        self.name = sname\n",
    "        self.student_id = sid\n",
    "        self.gender = sgen\n",
    "        \n",
    "    def update_name(self, new_name): # \"current object\"\n",
    "        self.name = new_name # s.name = new_name # UHH\n",
    "        \n",
    "    def add_title(self): # Mr or Miss\n",
    "        if self.gender == \"M\":\n",
    "            self.name = \"Mr. \" + self.name\n",
    "        else:\n",
    "            self.name = \"Miss. \" + self.name"
   ]
  },
  {
   "cell_type": "code",
   "execution_count": 38,
   "id": "43910731",
   "metadata": {},
   "outputs": [],
   "source": [
    "s = Student(\"Virat\", 1, \"M\") # Encapsulation -> Data + Functions\n",
    "p = Student(\"Dhoni\", 2, \"M\")"
   ]
  },
  {
   "cell_type": "code",
   "execution_count": null,
   "id": "15275a08",
   "metadata": {},
   "outputs": [],
   "source": [
    "s.update_name(\"Virat Kohli\")\n",
    "--> Student.update_name(s, \"Virat Kohli\")\n",
    "\n",
    "s.add_title()\n",
    "--> Student.add_title(s)\n",
    "\n",
    "p.add_title()\n",
    "--> Student.add_title(p)\n",
    "\n",
    "\n",
    "class list:\n",
    "    def sort(self, key=None):\n",
    "        ...\n",
    "\n",
    "l <- list\n",
    "l.sort(key=lambda x: x[1])\n",
    "---> list.sort(l, key=lambda x: x[1])"
   ]
  },
  {
   "cell_type": "code",
   "execution_count": 39,
   "id": "67db677f",
   "metadata": {},
   "outputs": [
    {
     "data": {
      "text/plain": [
       "<__main__.Student at 0x7f92df791850>"
      ]
     },
     "execution_count": 39,
     "metadata": {},
     "output_type": "execute_result"
    }
   ],
   "source": [
    "s"
   ]
  },
  {
   "cell_type": "code",
   "execution_count": 40,
   "id": "ff58aa2a",
   "metadata": {},
   "outputs": [
    {
     "data": {
      "text/plain": [
       "__main__.Student"
      ]
     },
     "execution_count": 40,
     "metadata": {},
     "output_type": "execute_result"
    }
   ],
   "source": [
    "type(s) # instance of type Student"
   ]
  },
  {
   "cell_type": "code",
   "execution_count": 42,
   "id": "90f88ab2",
   "metadata": {},
   "outputs": [
    {
     "data": {
      "text/plain": [
       "('Virat', 1, 'M')"
      ]
     },
     "execution_count": 42,
     "metadata": {},
     "output_type": "execute_result"
    }
   ],
   "source": [
    "s.name, s.student_id, s.gender"
   ]
  },
  {
   "cell_type": "code",
   "execution_count": 43,
   "id": "95ea2c45",
   "metadata": {},
   "outputs": [],
   "source": [
    "new_name = \"Virat Kohli\"\n",
    "s.update_name(new_name)"
   ]
  },
  {
   "cell_type": "code",
   "execution_count": 44,
   "id": "94c7bf00",
   "metadata": {},
   "outputs": [
    {
     "data": {
      "text/plain": [
       "('Virat Kohli', 1, 'M')"
      ]
     },
     "execution_count": 44,
     "metadata": {},
     "output_type": "execute_result"
    }
   ],
   "source": [
    "s.name, s.student_id, s.gender"
   ]
  },
  {
   "cell_type": "code",
   "execution_count": 45,
   "id": "b76337f2",
   "metadata": {},
   "outputs": [],
   "source": [
    "s.add_title()"
   ]
  },
  {
   "cell_type": "code",
   "execution_count": 46,
   "id": "c1c9a37d",
   "metadata": {},
   "outputs": [
    {
     "data": {
      "text/plain": [
       "('Mr. Virat Kohli', 1, 'M')"
      ]
     },
     "execution_count": 46,
     "metadata": {},
     "output_type": "execute_result"
    }
   ],
   "source": [
    "s.name, s.student_id, s.gender"
   ]
  },
  {
   "cell_type": "code",
   "execution_count": 47,
   "id": "53f7dc82",
   "metadata": {},
   "outputs": [],
   "source": [
    "d = Student(\"Dhoni\", 2, \"M\")"
   ]
  },
  {
   "cell_type": "code",
   "execution_count": 48,
   "id": "73d97850",
   "metadata": {},
   "outputs": [
    {
     "data": {
      "text/plain": [
       "<__main__.Student at 0x7f92df7915b0>"
      ]
     },
     "execution_count": 48,
     "metadata": {},
     "output_type": "execute_result"
    }
   ],
   "source": [
    "d"
   ]
  },
  {
   "cell_type": "code",
   "execution_count": 59,
   "id": "06572dfc",
   "metadata": {},
   "outputs": [
    {
     "data": {
      "text/plain": [
       "(True, True)"
      ]
     },
     "execution_count": 59,
     "metadata": {},
     "output_type": "execute_result"
    }
   ],
   "source": [
    "isinstance(d, Student), type(d) == Student"
   ]
  },
  {
   "cell_type": "code",
   "execution_count": 53,
   "id": "fe5230d3",
   "metadata": {},
   "outputs": [],
   "source": [
    "m = Student(\"Smrithi Mandana\", 3, \"F\")"
   ]
  },
  {
   "cell_type": "code",
   "execution_count": 54,
   "id": "cd084910",
   "metadata": {},
   "outputs": [
    {
     "data": {
      "text/plain": [
       "('Smrithi Mandana', 3, 'F')"
      ]
     },
     "execution_count": 54,
     "metadata": {},
     "output_type": "execute_result"
    }
   ],
   "source": [
    "m.name, m.student_id, m.gender"
   ]
  },
  {
   "cell_type": "code",
   "execution_count": 55,
   "id": "001d6757",
   "metadata": {},
   "outputs": [
    {
     "data": {
      "text/plain": [
       "False"
      ]
     },
     "execution_count": 55,
     "metadata": {},
     "output_type": "execute_result"
    }
   ],
   "source": [
    "m is s"
   ]
  },
  {
   "cell_type": "code",
   "execution_count": 56,
   "id": "db49f4a6",
   "metadata": {},
   "outputs": [
    {
     "data": {
      "text/plain": [
       "False"
      ]
     },
     "execution_count": 56,
     "metadata": {},
     "output_type": "execute_result"
    }
   ],
   "source": [
    "m is d # d is s -> false"
   ]
  },
  {
   "cell_type": "code",
   "execution_count": 57,
   "id": "099f2c1c",
   "metadata": {},
   "outputs": [
    {
     "data": {
      "text/plain": [
       "__main__.Student"
      ]
     },
     "execution_count": 57,
     "metadata": {},
     "output_type": "execute_result"
    }
   ],
   "source": [
    "type(m)"
   ]
  },
  {
   "cell_type": "code",
   "execution_count": null,
   "id": "36d53601",
   "metadata": {},
   "outputs": [],
   "source": [
    "Class of 30 students\n",
    "s1, s2, ..., s30 -> unit\n",
    "add_title each of 30 students -> for every student you can do\n",
    "s1.add_title()\n",
    "s2.add_titl() ..."
   ]
  },
  {
   "cell_type": "code",
   "execution_count": null,
   "id": "3aad9b2f",
   "metadata": {},
   "outputs": [],
   "source": [
    "Rectangle\n",
    "* length\n",
    "* breadth\n",
    "\n",
    "# * Checks (length > breadth, positive)\n",
    "* Area\n",
    "* Perimeter"
   ]
  },
  {
   "cell_type": "code",
   "execution_count": null,
   "id": "2120164b",
   "metadata": {},
   "outputs": [],
   "source": [
    "Generally\n",
    "    syntax -> ignore the importance of the notations/Concepts\n",
    "           <- (right way)"
   ]
  },
  {
   "cell_type": "code",
   "execution_count": 103,
   "id": "9e655b53",
   "metadata": {},
   "outputs": [],
   "source": [
    "class Rectangle:\n",
    "    def __init__(self, length, breadth):\n",
    "        self.l = length\n",
    "        self.b = breadth\n",
    "        \n",
    "    def area(self):\n",
    "        area = self.l * self.b\n",
    "        return area\n",
    "        \n",
    "    def perimeter(self):\n",
    "        perimeter = 2*(self.l+self.b)\n",
    "        return perimeter\n",
    "    \n",
    "    def is_valid(self):\n",
    "        return self.l>self.b and self.l>0 and self.b>0"
   ]
  },
  {
   "cell_type": "code",
   "execution_count": 82,
   "id": "87b563ee",
   "metadata": {},
   "outputs": [],
   "source": [
    "r = Rectangle(15, 10)"
   ]
  },
  {
   "cell_type": "code",
   "execution_count": 83,
   "id": "e7c5ff5b",
   "metadata": {},
   "outputs": [
    {
     "data": {
      "text/plain": [
       "<__main__.Rectangle at 0x7f92df7911c0>"
      ]
     },
     "execution_count": 83,
     "metadata": {},
     "output_type": "execute_result"
    }
   ],
   "source": [
    "r"
   ]
  },
  {
   "cell_type": "code",
   "execution_count": 74,
   "id": "f9c75e90",
   "metadata": {},
   "outputs": [
    {
     "data": {
      "text/plain": [
       "(15, 10)"
      ]
     },
     "execution_count": 74,
     "metadata": {},
     "output_type": "execute_result"
    }
   ],
   "source": [
    "r.l, r.b"
   ]
  },
  {
   "cell_type": "code",
   "execution_count": 75,
   "id": "81cb991b",
   "metadata": {},
   "outputs": [
    {
     "data": {
      "text/plain": [
       "150"
      ]
     },
     "execution_count": 75,
     "metadata": {},
     "output_type": "execute_result"
    }
   ],
   "source": [
    "r.area()"
   ]
  },
  {
   "cell_type": "code",
   "execution_count": 76,
   "id": "61131cb8",
   "metadata": {},
   "outputs": [
    {
     "data": {
      "text/plain": [
       "(8, 4)"
      ]
     },
     "execution_count": 76,
     "metadata": {},
     "output_type": "execute_result"
    }
   ],
   "source": [
    "s = Rectangle(8, 4)\n",
    "s.l, s.b"
   ]
  },
  {
   "cell_type": "code",
   "execution_count": 77,
   "id": "cffd1a90",
   "metadata": {},
   "outputs": [
    {
     "data": {
      "text/plain": [
       "32"
      ]
     },
     "execution_count": 77,
     "metadata": {},
     "output_type": "execute_result"
    }
   ],
   "source": [
    "s.area()"
   ]
  },
  {
   "cell_type": "code",
   "execution_count": 78,
   "id": "5ac7c715",
   "metadata": {},
   "outputs": [
    {
     "name": "stdout",
     "output_type": "stream",
     "text": [
      "Rectangle r is bigger\n"
     ]
    }
   ],
   "source": [
    "if r.area() > s.area():\n",
    "    print(\"Rectangle r is bigger\")\n",
    "else:\n",
    "    print(\"Rectangle s is bigger\")"
   ]
  },
  {
   "cell_type": "code",
   "execution_count": 79,
   "id": "c6dc894d",
   "metadata": {},
   "outputs": [
    {
     "data": {
      "text/plain": [
       "type"
      ]
     },
     "execution_count": 79,
     "metadata": {},
     "output_type": "execute_result"
    }
   ],
   "source": [
    "type(Rectangle)"
   ]
  },
  {
   "cell_type": "code",
   "execution_count": null,
   "id": "a7280b74",
   "metadata": {},
   "outputs": [],
   "source": [
    "isinstance(Rectangle, object)"
   ]
  },
  {
   "cell_type": "code",
   "execution_count": null,
   "id": "f9a92955",
   "metadata": {},
   "outputs": [],
   "source": []
  },
  {
   "cell_type": "code",
   "execution_count": null,
   "id": "ca4f823c",
   "metadata": {},
   "outputs": [],
   "source": [
    "Data members and functions together make a class powerful\n",
    "* If you have only DM then its as good as storing data in individual variables\n",
    "* If you have only functions then its as good as writing those functions outside the class."
   ]
  },
  {
   "cell_type": "code",
   "execution_count": null,
   "id": "3412bda3",
   "metadata": {},
   "outputs": [],
   "source": [
    "Dot notation:-\n",
    "* It is a very generic principle to access data/functions in any entity\n",
    "\n",
    "Entity\n",
    "    * level1 (10 attributes and 5 functions)\n",
    "        * level2 (3 attributes and 8 functions)\n",
    "            * level3 (2 attr and 2 functions)"
   ]
  },
  {
   "cell_type": "code",
   "execution_count": null,
   "id": "d3499913",
   "metadata": {},
   "outputs": [],
   "source": [
    "DB = \"student\"\n",
    "Table = \"grade10\" # assume 30 students\n",
    "For each student -> (name, rollno, grade, section)\n",
    "\n",
    "* DB \"student\" has 1 table -> grade10\n",
    "* Table grade10 has 30 rows in it (each row is a student)\n",
    "* Each row will contain 4 values -> name, rollno, grade, section\n",
    "\n",
    "Access:-\n",
    "Table is accessed -> student.grade10\n",
    "                     # db_name.table_name\n",
    "    \n",
    "Student record -> student.grade10.s\n",
    "Student name -> student.grade10.s.name\n",
    "    \n",
    "Exercise:- table=\"sales\", db=\"employee\", values=(name, emp_id, dob)\n",
    "Access: employee_id -> employee.sales.e.emp_id"
   ]
  },
  {
   "cell_type": "code",
   "execution_count": null,
   "id": "c2acd078",
   "metadata": {},
   "outputs": [],
   "source": []
  },
  {
   "cell_type": "code",
   "execution_count": null,
   "id": "9d4e32c5",
   "metadata": {},
   "outputs": [],
   "source": [
    "...\n",
    "\n",
    "Example:-\n",
    "l = [1, 2, -1, 0, 1, 4]"
   ]
  },
  {
   "cell_type": "code",
   "execution_count": 84,
   "id": "fd443932",
   "metadata": {},
   "outputs": [
    {
     "data": {
      "text/plain": [
       "[-1, 0, 1, 1, 2, 4]"
      ]
     },
     "execution_count": 84,
     "metadata": {},
     "output_type": "execute_result"
    }
   ],
   "source": [
    "l = [1, 2, -1, 0, 1, 4]\n",
    "l.sort() # dot notation -> list class, sort method\n",
    "l"
   ]
  },
  {
   "cell_type": "code",
   "execution_count": null,
   "id": "7702c1e6",
   "metadata": {},
   "outputs": [],
   "source": [
    "# def sorted(...):\n",
    "#     ...\n",
    "    \n",
    "# class list:\n",
    "#     ...\n",
    "    \n",
    "#     def sort(...):\n",
    "#         ..."
   ]
  },
  {
   "cell_type": "code",
   "execution_count": 90,
   "id": "3bbbb04a",
   "metadata": {},
   "outputs": [
    {
     "data": {
      "text/plain": [
       "[-1, 0, 1, 1, 2, 4]"
      ]
     },
     "execution_count": 90,
     "metadata": {},
     "output_type": "execute_result"
    }
   ],
   "source": [
    "l = [1, 2, -1, 0, 1, 4]\n",
    "res = sorted(l)\n",
    "res"
   ]
  },
  {
   "cell_type": "code",
   "execution_count": 87,
   "id": "7f7400b4",
   "metadata": {
    "collapsed": true
   },
   "outputs": [
    {
     "ename": "AttributeError",
     "evalue": "'set' object has no attribute 'sort'",
     "output_type": "error",
     "traceback": [
      "\u001b[0;31m---------------------------------------------------------------------------\u001b[0m",
      "\u001b[0;31mAttributeError\u001b[0m                            Traceback (most recent call last)",
      "\u001b[0;32m/var/folders/wx/bxxcv1hd2fn6pgpvlymttc680000gn/T/ipykernel_70534/3698342550.py\u001b[0m in \u001b[0;36m<module>\u001b[0;34m\u001b[0m\n\u001b[1;32m      1\u001b[0m \u001b[0ml\u001b[0m \u001b[0;34m=\u001b[0m \u001b[0mset\u001b[0m\u001b[0;34m(\u001b[0m\u001b[0;34m)\u001b[0m\u001b[0;34m\u001b[0m\u001b[0;34m\u001b[0m\u001b[0m\n\u001b[0;32m----> 2\u001b[0;31m \u001b[0ml\u001b[0m\u001b[0;34m.\u001b[0m\u001b[0msort\u001b[0m\u001b[0;34m(\u001b[0m\u001b[0;34m)\u001b[0m\u001b[0;34m\u001b[0m\u001b[0;34m\u001b[0m\u001b[0m\n\u001b[0m",
      "\u001b[0;31mAttributeError\u001b[0m: 'set' object has no attribute 'sort'"
     ]
    }
   ],
   "source": [
    "l = set()\n",
    "l.sort()"
   ]
  },
  {
   "cell_type": "code",
   "execution_count": 91,
   "id": "20fef2ac",
   "metadata": {},
   "outputs": [
    {
     "data": {
      "text/plain": [
       "{-1, 0, 1, 2, 4}"
      ]
     },
     "execution_count": 91,
     "metadata": {},
     "output_type": "execute_result"
    }
   ],
   "source": [
    "a = set([1, 2, -1, 0, 1, 4])\n",
    "b = set([9, 1, 2, 8, -5])\n",
    "\n",
    "# res = set.intersection(a, b) # set.intersection(b, a)\n",
    "res = a.intersection(b)\n",
    "res"
   ]
  },
  {
   "cell_type": "code",
   "execution_count": null,
   "id": "17bb716e",
   "metadata": {},
   "outputs": [],
   "source": [
    "Different notations:-\n",
    "* func1(...)\n",
    "  object.func2(...)\n",
    "  class.func3(...) # Student.display(...)"
   ]
  },
  {
   "cell_type": "code",
   "execution_count": null,
   "id": "06699387",
   "metadata": {},
   "outputs": [],
   "source": []
  },
  {
   "cell_type": "code",
   "execution_count": 102,
   "id": "8ad99414",
   "metadata": {},
   "outputs": [],
   "source": [
    "def is_rectangle_valid(length, breadth):\n",
    "    return length > breadth and length > 0 \\\n",
    "            and breadth > 0\n",
    "\n",
    "# I'm accessing private object data in a global function\n",
    "# Another type objects can access it\n",
    "# To call independently -> good (less) and bad (more) -> debatable"
   ]
  },
  {
   "cell_type": "code",
   "execution_count": 101,
   "id": "cbafb572",
   "metadata": {},
   "outputs": [
    {
     "data": {
      "text/plain": [
       "False"
      ]
     },
     "execution_count": 101,
     "metadata": {},
     "output_type": "execute_result"
    }
   ],
   "source": [
    "r1 = Rectangle(3, 5)\n",
    "r2 = Rectangle(2, 0)\n",
    "r3 = Rectangle(5, 3)\n",
    "r4 = Rectangle(-1, -2)\n",
    "r5 = Rectangle(5, -1)\n",
    "\n",
    "is_rectangle_valid(r4.l, r4.b)"
   ]
  },
  {
   "cell_type": "code",
   "execution_count": null,
   "id": "2760bb32",
   "metadata": {},
   "outputs": [],
   "source": [
    "* Usable with other objects - BAD(1), Good(0)\n",
    "* To call independently - "
   ]
  },
  {
   "cell_type": "code",
   "execution_count": null,
   "id": "03862b14",
   "metadata": {},
   "outputs": [],
   "source": []
  },
  {
   "cell_type": "code",
   "execution_count": null,
   "id": "0bf4c56b",
   "metadata": {},
   "outputs": [],
   "source": [
    "Advice:\n",
    "You should be able to write the definition of the function\n",
    "inside the class correctly, before coding the function"
   ]
  },
  {
   "cell_type": "code",
   "execution_count": 109,
   "id": "9a1cf32c",
   "metadata": {},
   "outputs": [],
   "source": [
    "class Rectangle:\n",
    "    def __init__(self, length, breadth):\n",
    "        self.l = length # r.l = length\n",
    "        self.b = breadth\n",
    "        \n",
    "    def display(self): # l, b, area\n",
    "        print(\"Length: %s and Breadth: %s\" % (self.l, self.b))\n",
    "#         area = self.l * self.b\n",
    "        area = self.area() # r.area() -> Rectangle.area(r)\n",
    "        print(\"Area: %s\" % (area))\n",
    "\n",
    "    def area(self): # this Java\n",
    "        area = self.l * self.b\n",
    "        return area\n",
    "        \n",
    "    def perimeter(self):\n",
    "        perimeter = 2*(self.l+self.b)\n",
    "        return perimeter\n",
    "    \n",
    "    def is_valid(self):\n",
    "        return self.l>self.b and self.l>0 and self.b>0"
   ]
  },
  {
   "cell_type": "code",
   "execution_count": null,
   "id": "2e39e001",
   "metadata": {},
   "outputs": [],
   "source": [
    "# Rectangle(15, 12)"
   ]
  },
  {
   "cell_type": "code",
   "execution_count": 110,
   "id": "02085afb",
   "metadata": {},
   "outputs": [
    {
     "name": "stdout",
     "output_type": "stream",
     "text": [
      "Length: 15 and Breadth: 12\n",
      "Area: 180\n"
     ]
    }
   ],
   "source": [
    "r = Rectangle(15, 12)\n",
    "r.display() # Rectangle.display(r)"
   ]
  },
  {
   "cell_type": "code",
   "execution_count": null,
   "id": "fa913841",
   "metadata": {},
   "outputs": [],
   "source": [
    "Functions inside class v/s outside:-\n",
    "* Scope is different v/s global\n",
    "* Access is different v/s direct"
   ]
  },
  {
   "cell_type": "code",
   "execution_count": null,
   "id": "d694560e",
   "metadata": {},
   "outputs": [],
   "source": [
    "self?\n",
    "* self means the current object"
   ]
  },
  {
   "cell_type": "code",
   "execution_count": null,
   "id": "823a9212",
   "metadata": {},
   "outputs": [],
   "source": []
  },
  {
   "cell_type": "code",
   "execution_count": 140,
   "id": "4792d4a8",
   "metadata": {},
   "outputs": [],
   "source": [
    "class Point2D:\n",
    "    def __init__(self, name, x_coord, y_coord):\n",
    "        self.name = name\n",
    "        self.x = x_coord\n",
    "        self.y = y_coord\n",
    "        \n",
    "    def display(self):\n",
    "        print(\"%s(%s,%s)\" % (self.name, self.x, self.y))\n",
    "        \n",
    "    # obj is an object of Point2D class\n",
    "    def add(self, obj):\n",
    "        if isinstance(obj, Point2D):\n",
    "            res_x = self.x + obj.x\n",
    "            res_y = self.y + obj.y\n",
    "            print(\"Point: (%s, %s)\" % (res_x, res_y))\n",
    "        else:\n",
    "            print(\"cant add them\")\n",
    "\n",
    "    def subtract(self, obj):\n",
    "        res_x = self.x - obj.x\n",
    "        res_y = self.y - obj.y\n",
    "        print(\"Point: (%s, %s)\" % (res_x, res_y))"
   ]
  },
  {
   "cell_type": "code",
   "execution_count": 141,
   "id": "2fea7c09",
   "metadata": {},
   "outputs": [],
   "source": [
    "p1 = Point2D(\"A\", 3, 5)\n",
    "p2 = Point2D(\"B\", 4, 7)"
   ]
  },
  {
   "cell_type": "code",
   "execution_count": 142,
   "id": "d466b0d4",
   "metadata": {},
   "outputs": [
    {
     "name": "stdout",
     "output_type": "stream",
     "text": [
      "A(3,5)\n"
     ]
    }
   ],
   "source": [
    "p1.display()"
   ]
  },
  {
   "cell_type": "code",
   "execution_count": 143,
   "id": "9d5947df",
   "metadata": {},
   "outputs": [
    {
     "name": "stdout",
     "output_type": "stream",
     "text": [
      "B(4,7)\n"
     ]
    }
   ],
   "source": [
    "p2.display() "
   ]
  },
  {
   "cell_type": "code",
   "execution_count": 144,
   "id": "2ac1656e",
   "metadata": {},
   "outputs": [
    {
     "name": "stdout",
     "output_type": "stream",
     "text": [
      "Point: (7, 12)\n"
     ]
    }
   ],
   "source": [
    "p1.add(p2)\n",
    "# Point2D.add(p1, p2)"
   ]
  },
  {
   "cell_type": "code",
   "execution_count": 128,
   "id": "03299e83",
   "metadata": {},
   "outputs": [
    {
     "name": "stdout",
     "output_type": "stream",
     "text": [
      "Point: (7, 12)\n"
     ]
    }
   ],
   "source": [
    "p2.add(p1) # Point2D.add(p2, p1)"
   ]
  },
  {
   "cell_type": "code",
   "execution_count": 129,
   "id": "5120b0b4",
   "metadata": {},
   "outputs": [
    {
     "name": "stdout",
     "output_type": "stream",
     "text": [
      "Point: (-1, -2)\n"
     ]
    }
   ],
   "source": [
    "p1.subtract(p2)"
   ]
  },
  {
   "cell_type": "code",
   "execution_count": 130,
   "id": "d8dbaeeb",
   "metadata": {},
   "outputs": [
    {
     "name": "stdout",
     "output_type": "stream",
     "text": [
      "Point: (1, 2)\n"
     ]
    }
   ],
   "source": [
    "p2.subtract(p1) # Point2D.subtract(p2, p1)"
   ]
  },
  {
   "cell_type": "code",
   "execution_count": null,
   "id": "4946b167",
   "metadata": {},
   "outputs": [],
   "source": []
  }
 ],
 "metadata": {
  "kernelspec": {
   "display_name": "Python 3 (ipykernel)",
   "language": "python",
   "name": "python3"
  },
  "language_info": {
   "codemirror_mode": {
    "name": "ipython",
    "version": 3
   },
   "file_extension": ".py",
   "mimetype": "text/x-python",
   "name": "python",
   "nbconvert_exporter": "python",
   "pygments_lexer": "ipython3",
   "version": "3.9.5"
  }
 },
 "nbformat": 4,
 "nbformat_minor": 5
}
