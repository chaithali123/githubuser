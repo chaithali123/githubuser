{
 "cells": [
  {
   "cell_type": "code",
   "execution_count": 6,
   "id": "ba13f183",
   "metadata": {},
   "outputs": [
    {
     "name": "stdout",
     "output_type": "stream",
     "text": [
      "0\n",
      "1\n",
      "1\n",
      "2\n",
      "3\n",
      "5\n",
      "8\n",
      "13\n",
      "21\n",
      "34\n",
      "55\n"
     ]
    }
   ],
   "source": [
    "def fib(n):\n",
    "    a=0\n",
    "    b=1\n",
    "    \n",
    "    if n==1:\n",
    "        print(a)\n",
    "    elif(n<1):\n",
    "        print(\"Invalid\")\n",
    "           \n",
    "    else:\n",
    "        print(a)\n",
    "        print(b)\n",
    "         \n",
    "        \n",
    "    for i in range(2,n):\n",
    "        \n",
    "        c=a+b\n",
    "        a=b\n",
    "        b=c\n",
    "        print(c)\n",
    "        \n",
    "    \n",
    "\n",
    "\n",
    "\n",
    "fib(11)"
   ]
  },
  {
   "cell_type": "code",
   "execution_count": null,
   "id": "97d8a4f5",
   "metadata": {},
   "outputs": [],
   "source": []
  }
 ],
 "metadata": {
  "kernelspec": {
   "display_name": "Python 3 (ipykernel)",
   "language": "python",
   "name": "python3"
  },
  "language_info": {
   "codemirror_mode": {
    "name": "ipython",
    "version": 3
   },
   "file_extension": ".py",
   "mimetype": "text/x-python",
   "name": "python",
   "nbconvert_exporter": "python",
   "pygments_lexer": "ipython3",
   "version": "3.10.0"
  }
 },
 "nbformat": 4,
 "nbformat_minor": 5
}
