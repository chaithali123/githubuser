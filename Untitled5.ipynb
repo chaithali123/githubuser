{
 "cells": [
  {
   "cell_type": "code",
   "execution_count": 1,
   "id": "717629da",
   "metadata": {},
   "outputs": [
    {
     "name": "stdout",
     "output_type": "stream",
     "text": [
      "Enter number of elements : 5\n",
      "8\n",
      "2\n",
      "3\n",
      "0\n",
      "7\n",
      "20\n"
     ]
    }
   ],
   "source": [
    "lst = []\n",
    "sum=0\n",
    "i=0\n",
    "# number of elements as input\n",
    "n = int(input(\"Enter number of elements : \"))\n",
    " \n",
    "\n",
    "for i in range(0, n):#iterating\n",
    "    ele = int(input())\n",
    "   \n",
    "\n",
    "    lst.append(ele) #add elements to list\n",
    "    sum=sum+ele\n",
    "    ele+=1\n",
    "    \n",
    " \n",
    "\n",
    "     \n",
    "print(sum)"
   ]
  },
  {
   "cell_type": "code",
   "execution_count": null,
   "id": "cdb7e1df",
   "metadata": {},
   "outputs": [],
   "source": []
  }
 ],
 "metadata": {
  "kernelspec": {
   "display_name": "Python 3 (ipykernel)",
   "language": "python",
   "name": "python3"
  },
  "language_info": {
   "codemirror_mode": {
    "name": "ipython",
    "version": 3
   },
   "file_extension": ".py",
   "mimetype": "text/x-python",
   "name": "python",
   "nbconvert_exporter": "python",
   "pygments_lexer": "ipython3",
   "version": "3.10.0"
  }
 },
 "nbformat": 4,
 "nbformat_minor": 5
}
