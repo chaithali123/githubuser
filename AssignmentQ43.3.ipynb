{
 "cells": [
  {
   "cell_type": "code",
   "execution_count": 8,
   "id": "ba13f183",
   "metadata": {},
   "outputs": [
    {
     "name": "stdout",
     "output_type": "stream",
     "text": [
      "Enter a string: The quick Brow Fox\n",
      "The lower case  18\n",
      "The upper case  9\n"
     ]
    }
   ],
   "source": [
    "str =input(\"Enter a string: \")#user input\n",
    "up==low==0 #intializing upper and lower to zero\n",
    "\n",
    "for n in str: # iterating n in input string\n",
    "    if (n.islower()):\n",
    "        low=low+1\n",
    "    elif (n.isupper()):\n",
    "        up=up+1\n",
    "print(\"The lower case \",low)# printing no of lower case\n",
    "print(\"The upper case \",up)# printing no of upper case\n",
    "\n"
   ]
  },
  {
   "cell_type": "code",
   "execution_count": null,
   "id": "97d8a4f5",
   "metadata": {},
   "outputs": [],
   "source": []
  },
  {
   "cell_type": "code",
   "execution_count": null,
   "id": "7e23498d",
   "metadata": {},
   "outputs": [],
   "source": []
  }
 ],
 "metadata": {
  "kernelspec": {
   "display_name": "Python 3 (ipykernel)",
   "language": "python",
   "name": "python3"
  },
  "language_info": {
   "codemirror_mode": {
    "name": "ipython",
    "version": 3
   },
   "file_extension": ".py",
   "mimetype": "text/x-python",
   "name": "python",
   "nbconvert_exporter": "python",
   "pygments_lexer": "ipython3",
   "version": "3.10.0"
  }
 },
 "nbformat": 4,
 "nbformat_minor": 5
}
