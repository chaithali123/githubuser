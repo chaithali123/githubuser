{
 "cells": [
  {
   "cell_type": "code",
   "execution_count": null,
   "id": "fc7426a3",
   "metadata": {},
   "outputs": [],
   "source": [
    "* Node is a class (skeleton)\n",
    "* Node holds\n",
    "    an int value\n",
    "    pointers to its left and right nodes"
   ]
  },
  {
   "cell_type": "code",
   "execution_count": null,
   "id": "ab8871de",
   "metadata": {},
   "outputs": [],
   "source": [
    "root_node = Node(5, None, None) # object of Node class\n",
    "root_node.value -> 5"
   ]
  },
  {
   "cell_type": "code",
   "execution_count": null,
   "id": "7d215554",
   "metadata": {},
   "outputs": [],
   "source": []
  },
  {
   "cell_type": "code",
   "execution_count": null,
   "id": "bd21fbc7",
   "metadata": {},
   "outputs": [],
   "source": [
    "Class Student -> class names are singular in nature\n",
    "* name\n",
    "* id\n",
    "* gender\n",
    "* marks\n",
    "* email\n",
    "* age\n",
    "* bio\n",
    "* group\n",
    "* ph no\n",
    "* address\n",
    "..."
   ]
  },
  {
   "cell_type": "code",
   "execution_count": null,
   "id": "3abf2cf1",
   "metadata": {},
   "outputs": [],
   "source": [
    "s = Student(\"Ritesh\", 123, \"M\", [80, 90, 65], ...)\n",
    "# s is an object of Class student"
   ]
  },
  {
   "cell_type": "code",
   "execution_count": null,
   "id": "3f995b2e",
   "metadata": {},
   "outputs": [],
   "source": [
    "Blueprint of a building (class) -> The building (object)\n",
    "Vaccine formula -> Vaccine\n",
    "Rocket -> SpaceX Falcon\n",
    "Car specs -> Car\n",
    "DNA -> Living Beings\n",
    "Dummy product -> Product we build\n",
    "int -> 5 # isinstance(5, (int))\n",
    "\n",
    "## \n",
    "# Dog -> German Sheperd\n",
    "# mammals -> human\n",
    "# animal -> lion\n",
    "# OS -> Linux\n",
    "# Sports -> Cricket\n",
    "# ML -> ML method\n",
    "# Country -> State\n",
    "# Automobile -> Car\n",
    "# Cell phone -> Samsung\n",
    "# Book -> Pen\n",
    "# Python -> Function\n",
    "# School -> Students\n",
    "# Library -> Books\n",
    "# Company -> Employee\n",
    "# Shape -> Triangle\n",
    "##"
   ]
  },
  {
   "cell_type": "code",
   "execution_count": null,
   "id": "98f50f6c",
   "metadata": {},
   "outputs": [],
   "source": [
    "class -> object (virtually connects)"
   ]
  },
  {
   "cell_type": "code",
   "execution_count": null,
   "id": "5ef5b7a8",
   "metadata": {},
   "outputs": [],
   "source": [
    "class Student\n",
    "# Data members\n",
    "* name: str \n",
    "* student_id: int\n",
    "* gender: str\n",
    "# * marks: list\n",
    "# * pic: 3d-list\n",
    "\n",
    "# Operations/Functions - Behaviour\n",
    "* Make him class monitor\n",
    "* Update the student details\n",
    "* Mark(=P/A) his attendance for today\n",
    "* Promote him to next grade\n",
    "* Put special attention to 3 most weak subjects\n",
    "* Check his schloarship probability\n",
    "* Verify his attendance\n",
    "\n",
    "the ones that hold real data -> fields, attributes, data members of the class"
   ]
  },
  {
   "cell_type": "code",
   "execution_count": 37,
   "id": "ea81951f",
   "metadata": {},
   "outputs": [],
   "source": [
    "class Student: # int, list\n",
    "    def __init__(self, sname, sid, sgen):\n",
    "        self.name = sname\n",
    "        self.student_id = sid\n",
    "        self.gender = sgen\n",
    "        \n",
    "    def update_name(self, new_name):\n",
    "        self.name = new_name\n",
    "        \n",
    "    def add_title(self): # Mr or Miss\n",
    "        if self.gender == \"M\":\n",
    "            self.name = \"Mr. \" + self.name\n",
    "        else:\n",
    "            self.name = \"Miss. \" + self.name"
   ]
  },
  {
   "cell_type": "code",
   "execution_count": 38,
   "id": "43910731",
   "metadata": {},
   "outputs": [],
   "source": [
    "s = Student(\"Virat\", 1, \"M\") # Encapsulation -> Data + Functions"
   ]
  },
  {
   "cell_type": "code",
   "execution_count": 39,
   "id": "67db677f",
   "metadata": {},
   "outputs": [
    {
     "data": {
      "text/plain": [
       "<__main__.Student at 0x7f92df791850>"
      ]
     },
     "execution_count": 39,
     "metadata": {},
     "output_type": "execute_result"
    }
   ],
   "source": [
    "s"
   ]
  },
  {
   "cell_type": "code",
   "execution_count": 40,
   "id": "ff58aa2a",
   "metadata": {},
   "outputs": [
    {
     "data": {
      "text/plain": [
       "__main__.Student"
      ]
     },
     "execution_count": 40,
     "metadata": {},
     "output_type": "execute_result"
    }
   ],
   "source": [
    "type(s) # instance of type Student"
   ]
  },
  {
   "cell_type": "code",
   "execution_count": 42,
   "id": "90f88ab2",
   "metadata": {},
   "outputs": [
    {
     "data": {
      "text/plain": [
       "('Virat', 1, 'M')"
      ]
     },
     "execution_count": 42,
     "metadata": {},
     "output_type": "execute_result"
    }
   ],
   "source": [
    "s.name, s.student_id, s.gender"
   ]
  },
  {
   "cell_type": "code",
   "execution_count": 43,
   "id": "95ea2c45",
   "metadata": {},
   "outputs": [],
   "source": [
    "new_name = \"Virat Kohli\"\n",
    "s.update_name(new_name)"
   ]
  },
  {
   "cell_type": "code",
   "execution_count": 44,
   "id": "94c7bf00",
   "metadata": {},
   "outputs": [
    {
     "data": {
      "text/plain": [
       "('Virat Kohli', 1, 'M')"
      ]
     },
     "execution_count": 44,
     "metadata": {},
     "output_type": "execute_result"
    }
   ],
   "source": [
    "s.name, s.student_id, s.gender"
   ]
  },
  {
   "cell_type": "code",
   "execution_count": 45,
   "id": "b76337f2",
   "metadata": {},
   "outputs": [],
   "source": [
    "s.add_title()"
   ]
  },
  {
   "cell_type": "code",
   "execution_count": 46,
   "id": "c1c9a37d",
   "metadata": {},
   "outputs": [
    {
     "data": {
      "text/plain": [
       "('Mr. Virat Kohli', 1, 'M')"
      ]
     },
     "execution_count": 46,
     "metadata": {},
     "output_type": "execute_result"
    }
   ],
   "source": [
    "s.name, s.student_id, s.gender"
   ]
  },
  {
   "cell_type": "code",
   "execution_count": 47,
   "id": "53f7dc82",
   "metadata": {},
   "outputs": [],
   "source": [
    "d = Student(\"Dhoni\", 2, \"M\")"
   ]
  },
  {
   "cell_type": "code",
   "execution_count": 48,
   "id": "73d97850",
   "metadata": {},
   "outputs": [
    {
     "data": {
      "text/plain": [
       "<__main__.Student at 0x7f92df7915b0>"
      ]
     },
     "execution_count": 48,
     "metadata": {},
     "output_type": "execute_result"
    }
   ],
   "source": [
    "d"
   ]
  },
  {
   "cell_type": "code",
   "execution_count": 59,
   "id": "06572dfc",
   "metadata": {},
   "outputs": [
    {
     "data": {
      "text/plain": [
       "(True, True)"
      ]
     },
     "execution_count": 59,
     "metadata": {},
     "output_type": "execute_result"
    }
   ],
   "source": [
    "isinstance(d, Student), type(d) == Student"
   ]
  },
  {
   "cell_type": "code",
   "execution_count": 53,
   "id": "fe5230d3",
   "metadata": {},
   "outputs": [],
   "source": [
    "m = Student(\"Smrithi Mandana\", 3, \"F\")"
   ]
  },
  {
   "cell_type": "code",
   "execution_count": 54,
   "id": "cd084910",
   "metadata": {},
   "outputs": [
    {
     "data": {
      "text/plain": [
       "('Smrithi Mandana', 3, 'F')"
      ]
     },
     "execution_count": 54,
     "metadata": {},
     "output_type": "execute_result"
    }
   ],
   "source": [
    "m.name, m.student_id, m.gender"
   ]
  },
  {
   "cell_type": "code",
   "execution_count": 55,
   "id": "001d6757",
   "metadata": {},
   "outputs": [
    {
     "data": {
      "text/plain": [
       "False"
      ]
     },
     "execution_count": 55,
     "metadata": {},
     "output_type": "execute_result"
    }
   ],
   "source": [
    "m is s"
   ]
  },
  {
   "cell_type": "code",
   "execution_count": 56,
   "id": "db49f4a6",
   "metadata": {},
   "outputs": [
    {
     "data": {
      "text/plain": [
       "False"
      ]
     },
     "execution_count": 56,
     "metadata": {},
     "output_type": "execute_result"
    }
   ],
   "source": [
    "m is d # d is s -> false"
   ]
  },
  {
   "cell_type": "code",
   "execution_count": 57,
   "id": "099f2c1c",
   "metadata": {},
   "outputs": [
    {
     "data": {
      "text/plain": [
       "__main__.Student"
      ]
     },
     "execution_count": 57,
     "metadata": {},
     "output_type": "execute_result"
    }
   ],
   "source": [
    "type(m)"
   ]
  },
  {
   "cell_type": "code",
   "execution_count": null,
   "id": "36d53601",
   "metadata": {},
   "outputs": [],
   "source": [
    "Class of 30 students\n",
    "s1, s2, ..., s30 -> unit\n",
    "add_title each of 30 students -> for every student you can do\n",
    "s1.add_title()\n",
    "s2.add_titl() ..."
   ]
  },
  {
   "cell_type": "code",
   "execution_count": null,
   "id": "3aad9b2f",
   "metadata": {},
   "outputs": [],
   "source": [
    "Rectangle\n",
    "* length\n",
    "* breadth\n",
    "\n",
    "# * Checks (length > breadth, positive)\n",
    "* Area\n",
    "* Perimeter"
   ]
  },
  {
   "cell_type": "code",
   "execution_count": 72,
   "id": "9e655b53",
   "metadata": {},
   "outputs": [],
   "source": [
    "class Rectangle:\n",
    "    def __init__(self, length, breadth):\n",
    "        self.l = length\n",
    "        self.b = breadth\n",
    "        \n",
    "    # Area = l * b\n",
    "    def area(self):\n",
    "        area = self.l * self.b\n",
    "        return area\n",
    "#         print(\"Area is: \", area)\n",
    "        \n",
    "    def perimeter(self):\n",
    "        ..."
   ]
  },
  {
   "cell_type": "code",
   "execution_count": 73,
   "id": "87b563ee",
   "metadata": {},
   "outputs": [],
   "source": [
    "r = Rectangle(15, 10)"
   ]
  },
  {
   "cell_type": "code",
   "execution_count": 74,
   "id": "f9c75e90",
   "metadata": {},
   "outputs": [
    {
     "data": {
      "text/plain": [
       "(15, 10)"
      ]
     },
     "execution_count": 74,
     "metadata": {},
     "output_type": "execute_result"
    }
   ],
   "source": [
    "r.l, r.b"
   ]
  },
  {
   "cell_type": "code",
   "execution_count": 75,
   "id": "81cb991b",
   "metadata": {},
   "outputs": [
    {
     "data": {
      "text/plain": [
       "150"
      ]
     },
     "execution_count": 75,
     "metadata": {},
     "output_type": "execute_result"
    }
   ],
   "source": [
    "r.area()"
   ]
  },
  {
   "cell_type": "code",
   "execution_count": 76,
   "id": "61131cb8",
   "metadata": {},
   "outputs": [
    {
     "data": {
      "text/plain": [
       "(8, 4)"
      ]
     },
     "execution_count": 76,
     "metadata": {},
     "output_type": "execute_result"
    }
   ],
   "source": [
    "s = Rectangle(8, 4)\n",
    "s.l, s.b"
   ]
  },
  {
   "cell_type": "code",
   "execution_count": 77,
   "id": "cffd1a90",
   "metadata": {},
   "outputs": [
    {
     "data": {
      "text/plain": [
       "32"
      ]
     },
     "execution_count": 77,
     "metadata": {},
     "output_type": "execute_result"
    }
   ],
   "source": [
    "s.area()"
   ]
  },
  {
   "cell_type": "code",
   "execution_count": 78,
   "id": "5ac7c715",
   "metadata": {},
   "outputs": [
    {
     "name": "stdout",
     "output_type": "stream",
     "text": [
      "Rectangle r is bigger\n"
     ]
    }
   ],
   "source": [
    "if r.area() > s.area():\n",
    "    print(\"Rectangle r is bigger\")\n",
    "else:\n",
    "    print(\"Rectangle s is bigger\")"
   ]
  },
  {
   "cell_type": "code",
   "execution_count": 79,
   "id": "c6dc894d",
   "metadata": {},
   "outputs": [
    {
     "data": {
      "text/plain": [
       "type"
      ]
     },
     "execution_count": 79,
     "metadata": {},
     "output_type": "execute_result"
    }
   ],
   "source": [
    "type(Rectangle)"
   ]
  },
  {
   "cell_type": "code",
   "execution_count": null,
   "id": "a7280b74",
   "metadata": {},
   "outputs": [],
   "source": [
    "isinstance(Rectangle, object)"
   ]
  }
 ],
 "metadata": {
  "kernelspec": {
   "display_name": "Python 3 (ipykernel)",
   "language": "python",
   "name": "python3"
  },
  "language_info": {
   "codemirror_mode": {
    "name": "ipython",
    "version": 3
   },
   "file_extension": ".py",
   "mimetype": "text/x-python",
   "name": "python",
   "nbconvert_exporter": "python",
   "pygments_lexer": "ipython3",
   "version": "3.9.5"
  }
 },
 "nbformat": 4,
 "nbformat_minor": 5
}
