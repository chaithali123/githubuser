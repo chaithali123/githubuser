{
 "cells": [
  {
   "cell_type": "code",
   "execution_count": 1,
   "id": "8370383d",
   "metadata": {},
   "outputs": [
    {
     "name": "stdout",
     "output_type": "stream",
     "text": [
      "Enter  x 10\n",
      "Enter n2\n"
     ]
    },
    {
     "data": {
      "text/plain": [
       "100"
      ]
     },
     "execution_count": 1,
     "metadata": {},
     "output_type": "execute_result"
    }
   ],
   "source": [
    "\n",
    "class Power:\n",
    "    \n",
    "    def __init__ (self,x,n): # defining constructor init and passing req parameters \n",
    "        self.x=x\n",
    "        self.n=n\n",
    "    def powerr(self): \n",
    "        return self.x**self.n #returning the result of x power n in this method\n",
    "    @classmethod      # function gets user input and supplies it to init fun..\n",
    "    def inp(self):\n",
    "        x = int(input('Enter  x '))\n",
    "        n = int(input('Enter n'))\n",
    "        return self(x,n)\n",
    "p=Power.inp() # object an abject\n",
    "p.powerr() #calling poweer method using object"
   ]
  },
  {
   "cell_type": "code",
   "execution_count": null,
   "id": "64433fb3",
   "metadata": {},
   "outputs": [],
   "source": []
  },
  {
   "cell_type": "code",
   "execution_count": null,
   "id": "f3ce2849",
   "metadata": {},
   "outputs": [],
   "source": []
  }
 ],
 "metadata": {
  "kernelspec": {
   "display_name": "Python 3 (ipykernel)",
   "language": "python",
   "name": "python3"
  },
  "language_info": {
   "codemirror_mode": {
    "name": "ipython",
    "version": 3
   },
   "file_extension": ".py",
   "mimetype": "text/x-python",
   "name": "python",
   "nbconvert_exporter": "python",
   "pygments_lexer": "ipython3",
   "version": "3.10.0"
  }
 },
 "nbformat": 4,
 "nbformat_minor": 5
}
